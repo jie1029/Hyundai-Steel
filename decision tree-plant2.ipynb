{
 "cells": [
  {
   "cell_type": "code",
   "execution_count": 4,
   "metadata": {
    "scrolled": true
   },
   "outputs": [
    {
     "data": {
      "text/html": [
       "<div>\n",
       "<style scoped>\n",
       "    .dataframe tbody tr th:only-of-type {\n",
       "        vertical-align: middle;\n",
       "    }\n",
       "\n",
       "    .dataframe tbody tr th {\n",
       "        vertical-align: top;\n",
       "    }\n",
       "\n",
       "    .dataframe thead th {\n",
       "        text-align: right;\n",
       "    }\n",
       "</style>\n",
       "<table border=\"1\" class=\"dataframe\">\n",
       "  <thead>\n",
       "    <tr style=\"text-align: right;\">\n",
       "      <th></th>\n",
       "      <th>Unnamed: 0</th>\n",
       "      <th>date</th>\n",
       "      <th>tem_loc1</th>\n",
       "      <th>hum_loc1</th>\n",
       "      <th>coil_loc1</th>\n",
       "      <th>tem_loc2</th>\n",
       "      <th>hum_loc2</th>\n",
       "      <th>coil_loc2</th>\n",
       "      <th>tem_loc3</th>\n",
       "      <th>hum_loc3</th>\n",
       "      <th>...</th>\n",
       "      <th>cond_loc2</th>\n",
       "      <th>cond_loc3</th>\n",
       "      <th>X24H_TMA</th>\n",
       "      <th>X24H_cond_loc1</th>\n",
       "      <th>X24H_cond_loc2</th>\n",
       "      <th>X24H_cond_loc3</th>\n",
       "      <th>X48H_TMA</th>\n",
       "      <th>X48H_cond_loc1</th>\n",
       "      <th>X48H_cond_loc2</th>\n",
       "      <th>X48H_cond_loc3</th>\n",
       "    </tr>\n",
       "  </thead>\n",
       "  <tbody>\n",
       "    <tr>\n",
       "      <th>0</th>\n",
       "      <td>0</td>\n",
       "      <td>2016-04-01 00:00:00</td>\n",
       "      <td>16.0</td>\n",
       "      <td>24.0</td>\n",
       "      <td>11.0</td>\n",
       "      <td>14.0</td>\n",
       "      <td>23.0</td>\n",
       "      <td>11.0</td>\n",
       "      <td>13.0</td>\n",
       "      <td>32.0</td>\n",
       "      <td>...</td>\n",
       "      <td>0.0</td>\n",
       "      <td>0.0</td>\n",
       "      <td>2016-04-02 00:00</td>\n",
       "      <td>0.0</td>\n",
       "      <td>0.0</td>\n",
       "      <td>0.0</td>\n",
       "      <td>2016-04-03 00:00</td>\n",
       "      <td>0.0</td>\n",
       "      <td>0.0</td>\n",
       "      <td>0.0</td>\n",
       "    </tr>\n",
       "    <tr>\n",
       "      <th>1</th>\n",
       "      <td>1</td>\n",
       "      <td>2016-04-01 03:00:00</td>\n",
       "      <td>14.0</td>\n",
       "      <td>28.0</td>\n",
       "      <td>10.0</td>\n",
       "      <td>12.0</td>\n",
       "      <td>32.0</td>\n",
       "      <td>9.0</td>\n",
       "      <td>11.0</td>\n",
       "      <td>42.0</td>\n",
       "      <td>...</td>\n",
       "      <td>0.0</td>\n",
       "      <td>0.0</td>\n",
       "      <td>2016-04-02 03:00</td>\n",
       "      <td>0.0</td>\n",
       "      <td>0.0</td>\n",
       "      <td>0.0</td>\n",
       "      <td>2016-04-03 03:00</td>\n",
       "      <td>0.0</td>\n",
       "      <td>0.0</td>\n",
       "      <td>0.0</td>\n",
       "    </tr>\n",
       "    <tr>\n",
       "      <th>2</th>\n",
       "      <td>2</td>\n",
       "      <td>2016-04-01 06:00:00</td>\n",
       "      <td>13.0</td>\n",
       "      <td>33.0</td>\n",
       "      <td>10.0</td>\n",
       "      <td>11.0</td>\n",
       "      <td>37.0</td>\n",
       "      <td>9.0</td>\n",
       "      <td>10.0</td>\n",
       "      <td>44.0</td>\n",
       "      <td>...</td>\n",
       "      <td>0.0</td>\n",
       "      <td>0.0</td>\n",
       "      <td>2016-04-02 06:00</td>\n",
       "      <td>0.0</td>\n",
       "      <td>0.0</td>\n",
       "      <td>0.0</td>\n",
       "      <td>2016-04-03 06:00</td>\n",
       "      <td>0.0</td>\n",
       "      <td>0.0</td>\n",
       "      <td>0.0</td>\n",
       "    </tr>\n",
       "    <tr>\n",
       "      <th>3</th>\n",
       "      <td>3</td>\n",
       "      <td>2016-04-01 09:00:00</td>\n",
       "      <td>13.0</td>\n",
       "      <td>33.0</td>\n",
       "      <td>10.0</td>\n",
       "      <td>11.0</td>\n",
       "      <td>35.0</td>\n",
       "      <td>9.0</td>\n",
       "      <td>10.0</td>\n",
       "      <td>41.0</td>\n",
       "      <td>...</td>\n",
       "      <td>0.0</td>\n",
       "      <td>0.0</td>\n",
       "      <td>2016-04-02 09:00</td>\n",
       "      <td>0.0</td>\n",
       "      <td>0.0</td>\n",
       "      <td>0.0</td>\n",
       "      <td>2016-04-03 09:00</td>\n",
       "      <td>0.0</td>\n",
       "      <td>0.0</td>\n",
       "      <td>0.0</td>\n",
       "    </tr>\n",
       "    <tr>\n",
       "      <th>4</th>\n",
       "      <td>4</td>\n",
       "      <td>2016-04-01 12:00:00</td>\n",
       "      <td>16.0</td>\n",
       "      <td>28.0</td>\n",
       "      <td>10.0</td>\n",
       "      <td>15.0</td>\n",
       "      <td>27.0</td>\n",
       "      <td>11.0</td>\n",
       "      <td>14.0</td>\n",
       "      <td>30.0</td>\n",
       "      <td>...</td>\n",
       "      <td>0.0</td>\n",
       "      <td>0.0</td>\n",
       "      <td>2016-04-02 12:00</td>\n",
       "      <td>0.0</td>\n",
       "      <td>0.0</td>\n",
       "      <td>0.0</td>\n",
       "      <td>2016-04-03 12:00</td>\n",
       "      <td>0.0</td>\n",
       "      <td>0.0</td>\n",
       "      <td>0.0</td>\n",
       "    </tr>\n",
       "    <tr>\n",
       "      <th>5</th>\n",
       "      <td>5</td>\n",
       "      <td>2016-04-01 15:00:00</td>\n",
       "      <td>18.0</td>\n",
       "      <td>24.0</td>\n",
       "      <td>14.0</td>\n",
       "      <td>18.0</td>\n",
       "      <td>21.0</td>\n",
       "      <td>14.0</td>\n",
       "      <td>16.0</td>\n",
       "      <td>27.0</td>\n",
       "      <td>...</td>\n",
       "      <td>0.0</td>\n",
       "      <td>0.0</td>\n",
       "      <td>2016-04-02 15:00</td>\n",
       "      <td>0.0</td>\n",
       "      <td>0.0</td>\n",
       "      <td>0.0</td>\n",
       "      <td>2016-04-03 15:00</td>\n",
       "      <td>0.0</td>\n",
       "      <td>0.0</td>\n",
       "      <td>0.0</td>\n",
       "    </tr>\n",
       "    <tr>\n",
       "      <th>6</th>\n",
       "      <td>6</td>\n",
       "      <td>2016-04-01 18:00:00</td>\n",
       "      <td>17.0</td>\n",
       "      <td>28.0</td>\n",
       "      <td>14.0</td>\n",
       "      <td>17.0</td>\n",
       "      <td>29.0</td>\n",
       "      <td>14.0</td>\n",
       "      <td>15.0</td>\n",
       "      <td>38.0</td>\n",
       "      <td>...</td>\n",
       "      <td>0.0</td>\n",
       "      <td>0.0</td>\n",
       "      <td>2016-04-02 18:00</td>\n",
       "      <td>0.0</td>\n",
       "      <td>0.0</td>\n",
       "      <td>0.0</td>\n",
       "      <td>2016-04-03 18:00</td>\n",
       "      <td>0.0</td>\n",
       "      <td>0.0</td>\n",
       "      <td>0.0</td>\n",
       "    </tr>\n",
       "    <tr>\n",
       "      <th>7</th>\n",
       "      <td>7</td>\n",
       "      <td>2016-04-01 21:00:00</td>\n",
       "      <td>16.0</td>\n",
       "      <td>38.0</td>\n",
       "      <td>12.0</td>\n",
       "      <td>15.0</td>\n",
       "      <td>36.0</td>\n",
       "      <td>12.0</td>\n",
       "      <td>14.0</td>\n",
       "      <td>41.0</td>\n",
       "      <td>...</td>\n",
       "      <td>0.0</td>\n",
       "      <td>0.0</td>\n",
       "      <td>2016-04-02 21:00</td>\n",
       "      <td>0.0</td>\n",
       "      <td>0.0</td>\n",
       "      <td>0.0</td>\n",
       "      <td>2016-04-03 21:00</td>\n",
       "      <td>0.0</td>\n",
       "      <td>0.0</td>\n",
       "      <td>0.0</td>\n",
       "    </tr>\n",
       "    <tr>\n",
       "      <th>8</th>\n",
       "      <td>8</td>\n",
       "      <td>2016-04-02 00:00:00</td>\n",
       "      <td>15.0</td>\n",
       "      <td>41.0</td>\n",
       "      <td>12.0</td>\n",
       "      <td>14.0</td>\n",
       "      <td>43.0</td>\n",
       "      <td>12.0</td>\n",
       "      <td>13.0</td>\n",
       "      <td>49.0</td>\n",
       "      <td>...</td>\n",
       "      <td>0.0</td>\n",
       "      <td>0.0</td>\n",
       "      <td>2016-04-03 00:00</td>\n",
       "      <td>0.0</td>\n",
       "      <td>0.0</td>\n",
       "      <td>0.0</td>\n",
       "      <td>2016-04-04 00:00</td>\n",
       "      <td>0.0</td>\n",
       "      <td>0.0</td>\n",
       "      <td>0.0</td>\n",
       "    </tr>\n",
       "    <tr>\n",
       "      <th>9</th>\n",
       "      <td>9</td>\n",
       "      <td>2016-04-02 03:00:00</td>\n",
       "      <td>14.0</td>\n",
       "      <td>41.0</td>\n",
       "      <td>10.0</td>\n",
       "      <td>12.0</td>\n",
       "      <td>44.0</td>\n",
       "      <td>9.0</td>\n",
       "      <td>12.0</td>\n",
       "      <td>49.0</td>\n",
       "      <td>...</td>\n",
       "      <td>0.0</td>\n",
       "      <td>0.0</td>\n",
       "      <td>2016-04-03 03:00</td>\n",
       "      <td>0.0</td>\n",
       "      <td>0.0</td>\n",
       "      <td>0.0</td>\n",
       "      <td>2016-04-04 03:00</td>\n",
       "      <td>0.0</td>\n",
       "      <td>0.0</td>\n",
       "      <td>0.0</td>\n",
       "    </tr>\n",
       "  </tbody>\n",
       "</table>\n",
       "<p>10 rows × 24 columns</p>\n",
       "</div>"
      ],
      "text/plain": [
       "   Unnamed: 0                date  tem_loc1  hum_loc1  coil_loc1  tem_loc2  \\\n",
       "0           0 2016-04-01 00:00:00      16.0      24.0       11.0      14.0   \n",
       "1           1 2016-04-01 03:00:00      14.0      28.0       10.0      12.0   \n",
       "2           2 2016-04-01 06:00:00      13.0      33.0       10.0      11.0   \n",
       "3           3 2016-04-01 09:00:00      13.0      33.0       10.0      11.0   \n",
       "4           4 2016-04-01 12:00:00      16.0      28.0       10.0      15.0   \n",
       "5           5 2016-04-01 15:00:00      18.0      24.0       14.0      18.0   \n",
       "6           6 2016-04-01 18:00:00      17.0      28.0       14.0      17.0   \n",
       "7           7 2016-04-01 21:00:00      16.0      38.0       12.0      15.0   \n",
       "8           8 2016-04-02 00:00:00      15.0      41.0       12.0      14.0   \n",
       "9           9 2016-04-02 03:00:00      14.0      41.0       10.0      12.0   \n",
       "\n",
       "   hum_loc2  coil_loc2  tem_loc3  hum_loc3  ...  cond_loc2  cond_loc3  \\\n",
       "0      23.0       11.0      13.0      32.0  ...        0.0        0.0   \n",
       "1      32.0        9.0      11.0      42.0  ...        0.0        0.0   \n",
       "2      37.0        9.0      10.0      44.0  ...        0.0        0.0   \n",
       "3      35.0        9.0      10.0      41.0  ...        0.0        0.0   \n",
       "4      27.0       11.0      14.0      30.0  ...        0.0        0.0   \n",
       "5      21.0       14.0      16.0      27.0  ...        0.0        0.0   \n",
       "6      29.0       14.0      15.0      38.0  ...        0.0        0.0   \n",
       "7      36.0       12.0      14.0      41.0  ...        0.0        0.0   \n",
       "8      43.0       12.0      13.0      49.0  ...        0.0        0.0   \n",
       "9      44.0        9.0      12.0      49.0  ...        0.0        0.0   \n",
       "\n",
       "           X24H_TMA  X24H_cond_loc1  X24H_cond_loc2  X24H_cond_loc3  \\\n",
       "0  2016-04-02 00:00             0.0             0.0             0.0   \n",
       "1  2016-04-02 03:00             0.0             0.0             0.0   \n",
       "2  2016-04-02 06:00             0.0             0.0             0.0   \n",
       "3  2016-04-02 09:00             0.0             0.0             0.0   \n",
       "4  2016-04-02 12:00             0.0             0.0             0.0   \n",
       "5  2016-04-02 15:00             0.0             0.0             0.0   \n",
       "6  2016-04-02 18:00             0.0             0.0             0.0   \n",
       "7  2016-04-02 21:00             0.0             0.0             0.0   \n",
       "8  2016-04-03 00:00             0.0             0.0             0.0   \n",
       "9  2016-04-03 03:00             0.0             0.0             0.0   \n",
       "\n",
       "           X48H_TMA  X48H_cond_loc1  X48H_cond_loc2  X48H_cond_loc3  \n",
       "0  2016-04-03 00:00             0.0             0.0             0.0  \n",
       "1  2016-04-03 03:00             0.0             0.0             0.0  \n",
       "2  2016-04-03 06:00             0.0             0.0             0.0  \n",
       "3  2016-04-03 09:00             0.0             0.0             0.0  \n",
       "4  2016-04-03 12:00             0.0             0.0             0.0  \n",
       "5  2016-04-03 15:00             0.0             0.0             0.0  \n",
       "6  2016-04-03 18:00             0.0             0.0             0.0  \n",
       "7  2016-04-03 21:00             0.0             0.0             0.0  \n",
       "8  2016-04-04 00:00             0.0             0.0             0.0  \n",
       "9  2016-04-04 03:00             0.0             0.0             0.0  \n",
       "\n",
       "[10 rows x 24 columns]"
      ]
     },
     "execution_count": 4,
     "metadata": {},
     "output_type": "execute_result"
    }
   ],
   "source": [
    "import pandas as pd\n",
    "\n",
    "plant2 = pd.read_csv('./plant2_linear_test.csv',parse_dates=['date'])\n",
    "plant2.head(10)"
   ]
  },
  {
   "cell_type": "code",
   "execution_count": 5,
   "metadata": {},
   "outputs": [],
   "source": [
    "del plant2['Unnamed: 0']"
   ]
  },
  {
   "cell_type": "code",
   "execution_count": 6,
   "metadata": {
    "scrolled": false
   },
   "outputs": [
    {
     "data": {
      "text/html": [
       "<div>\n",
       "<style scoped>\n",
       "    .dataframe tbody tr th:only-of-type {\n",
       "        vertical-align: middle;\n",
       "    }\n",
       "\n",
       "    .dataframe tbody tr th {\n",
       "        vertical-align: top;\n",
       "    }\n",
       "\n",
       "    .dataframe thead th {\n",
       "        text-align: right;\n",
       "    }\n",
       "</style>\n",
       "<table border=\"1\" class=\"dataframe\">\n",
       "  <thead>\n",
       "    <tr style=\"text-align: right;\">\n",
       "      <th></th>\n",
       "      <th>date</th>\n",
       "      <th>tem_loc1</th>\n",
       "      <th>hum_loc1</th>\n",
       "      <th>coil_loc1</th>\n",
       "      <th>tem_loc2</th>\n",
       "      <th>hum_loc2</th>\n",
       "      <th>coil_loc2</th>\n",
       "      <th>tem_loc3</th>\n",
       "      <th>hum_loc3</th>\n",
       "      <th>coil_loc3</th>\n",
       "      <th>...</th>\n",
       "      <th>X48H_TMA</th>\n",
       "      <th>X48H_cond_loc1</th>\n",
       "      <th>X48H_cond_loc2</th>\n",
       "      <th>X48H_cond_loc3</th>\n",
       "      <th>year</th>\n",
       "      <th>month</th>\n",
       "      <th>day</th>\n",
       "      <th>hour</th>\n",
       "      <th>minute</th>\n",
       "      <th>second</th>\n",
       "    </tr>\n",
       "  </thead>\n",
       "  <tbody>\n",
       "    <tr>\n",
       "      <th>0</th>\n",
       "      <td>2016-04-01 00:00:00</td>\n",
       "      <td>16.0</td>\n",
       "      <td>24.0</td>\n",
       "      <td>11.0</td>\n",
       "      <td>14.0</td>\n",
       "      <td>23.0</td>\n",
       "      <td>11.0</td>\n",
       "      <td>13.0</td>\n",
       "      <td>32.0</td>\n",
       "      <td>10.0</td>\n",
       "      <td>...</td>\n",
       "      <td>2016-04-03 00:00</td>\n",
       "      <td>0.0</td>\n",
       "      <td>0.0</td>\n",
       "      <td>0.0</td>\n",
       "      <td>2016</td>\n",
       "      <td>4</td>\n",
       "      <td>1</td>\n",
       "      <td>0</td>\n",
       "      <td>0</td>\n",
       "      <td>0</td>\n",
       "    </tr>\n",
       "    <tr>\n",
       "      <th>1</th>\n",
       "      <td>2016-04-01 03:00:00</td>\n",
       "      <td>14.0</td>\n",
       "      <td>28.0</td>\n",
       "      <td>10.0</td>\n",
       "      <td>12.0</td>\n",
       "      <td>32.0</td>\n",
       "      <td>9.0</td>\n",
       "      <td>11.0</td>\n",
       "      <td>42.0</td>\n",
       "      <td>7.0</td>\n",
       "      <td>...</td>\n",
       "      <td>2016-04-03 03:00</td>\n",
       "      <td>0.0</td>\n",
       "      <td>0.0</td>\n",
       "      <td>0.0</td>\n",
       "      <td>2016</td>\n",
       "      <td>4</td>\n",
       "      <td>1</td>\n",
       "      <td>3</td>\n",
       "      <td>0</td>\n",
       "      <td>0</td>\n",
       "    </tr>\n",
       "    <tr>\n",
       "      <th>2</th>\n",
       "      <td>2016-04-01 06:00:00</td>\n",
       "      <td>13.0</td>\n",
       "      <td>33.0</td>\n",
       "      <td>10.0</td>\n",
       "      <td>11.0</td>\n",
       "      <td>37.0</td>\n",
       "      <td>9.0</td>\n",
       "      <td>10.0</td>\n",
       "      <td>44.0</td>\n",
       "      <td>7.0</td>\n",
       "      <td>...</td>\n",
       "      <td>2016-04-03 06:00</td>\n",
       "      <td>0.0</td>\n",
       "      <td>0.0</td>\n",
       "      <td>0.0</td>\n",
       "      <td>2016</td>\n",
       "      <td>4</td>\n",
       "      <td>1</td>\n",
       "      <td>6</td>\n",
       "      <td>0</td>\n",
       "      <td>0</td>\n",
       "    </tr>\n",
       "    <tr>\n",
       "      <th>3</th>\n",
       "      <td>2016-04-01 09:00:00</td>\n",
       "      <td>13.0</td>\n",
       "      <td>33.0</td>\n",
       "      <td>10.0</td>\n",
       "      <td>11.0</td>\n",
       "      <td>35.0</td>\n",
       "      <td>9.0</td>\n",
       "      <td>10.0</td>\n",
       "      <td>41.0</td>\n",
       "      <td>8.0</td>\n",
       "      <td>...</td>\n",
       "      <td>2016-04-03 09:00</td>\n",
       "      <td>0.0</td>\n",
       "      <td>0.0</td>\n",
       "      <td>0.0</td>\n",
       "      <td>2016</td>\n",
       "      <td>4</td>\n",
       "      <td>1</td>\n",
       "      <td>9</td>\n",
       "      <td>0</td>\n",
       "      <td>0</td>\n",
       "    </tr>\n",
       "    <tr>\n",
       "      <th>4</th>\n",
       "      <td>2016-04-01 12:00:00</td>\n",
       "      <td>16.0</td>\n",
       "      <td>28.0</td>\n",
       "      <td>10.0</td>\n",
       "      <td>15.0</td>\n",
       "      <td>27.0</td>\n",
       "      <td>11.0</td>\n",
       "      <td>14.0</td>\n",
       "      <td>30.0</td>\n",
       "      <td>9.0</td>\n",
       "      <td>...</td>\n",
       "      <td>2016-04-03 12:00</td>\n",
       "      <td>0.0</td>\n",
       "      <td>0.0</td>\n",
       "      <td>0.0</td>\n",
       "      <td>2016</td>\n",
       "      <td>4</td>\n",
       "      <td>1</td>\n",
       "      <td>12</td>\n",
       "      <td>0</td>\n",
       "      <td>0</td>\n",
       "    </tr>\n",
       "  </tbody>\n",
       "</table>\n",
       "<p>5 rows × 29 columns</p>\n",
       "</div>"
      ],
      "text/plain": [
       "                 date  tem_loc1  hum_loc1  coil_loc1  tem_loc2  hum_loc2  \\\n",
       "0 2016-04-01 00:00:00      16.0      24.0       11.0      14.0      23.0   \n",
       "1 2016-04-01 03:00:00      14.0      28.0       10.0      12.0      32.0   \n",
       "2 2016-04-01 06:00:00      13.0      33.0       10.0      11.0      37.0   \n",
       "3 2016-04-01 09:00:00      13.0      33.0       10.0      11.0      35.0   \n",
       "4 2016-04-01 12:00:00      16.0      28.0       10.0      15.0      27.0   \n",
       "\n",
       "   coil_loc2  tem_loc3  hum_loc3  coil_loc3  ...          X48H_TMA  \\\n",
       "0       11.0      13.0      32.0       10.0  ...  2016-04-03 00:00   \n",
       "1        9.0      11.0      42.0        7.0  ...  2016-04-03 03:00   \n",
       "2        9.0      10.0      44.0        7.0  ...  2016-04-03 06:00   \n",
       "3        9.0      10.0      41.0        8.0  ...  2016-04-03 09:00   \n",
       "4       11.0      14.0      30.0        9.0  ...  2016-04-03 12:00   \n",
       "\n",
       "   X48H_cond_loc1  X48H_cond_loc2  X48H_cond_loc3  year month  day  hour  \\\n",
       "0             0.0             0.0             0.0  2016     4    1     0   \n",
       "1             0.0             0.0             0.0  2016     4    1     3   \n",
       "2             0.0             0.0             0.0  2016     4    1     6   \n",
       "3             0.0             0.0             0.0  2016     4    1     9   \n",
       "4             0.0             0.0             0.0  2016     4    1    12   \n",
       "\n",
       "   minute second  \n",
       "0       0      0  \n",
       "1       0      0  \n",
       "2       0      0  \n",
       "3       0      0  \n",
       "4       0      0  \n",
       "\n",
       "[5 rows x 29 columns]"
      ]
     },
     "execution_count": 6,
     "metadata": {},
     "output_type": "execute_result"
    }
   ],
   "source": [
    "plant2[\"year\"] = plant2[\"date\"].dt.year\n",
    "plant2[\"month\"] = plant2[\"date\"].dt.month\n",
    "plant2[\"day\"] = plant2[\"date\"].dt.day\n",
    "plant2[\"hour\"] = plant2[\"date\"].dt.hour\n",
    "plant2[\"minute\"] = plant2[\"date\"].dt.minute\n",
    "plant2[\"second\"] = plant2[\"date\"].dt.second\n",
    "plant2.head()"
   ]
  },
  {
   "cell_type": "code",
   "execution_count": 7,
   "metadata": {},
   "outputs": [
    {
     "name": "stdout",
     "output_type": "stream",
     "text": [
      "<class 'pandas.core.frame.DataFrame'>\n",
      "RangeIndex: 58792 entries, 0 to 58791\n",
      "Data columns (total 29 columns):\n",
      " #   Column          Non-Null Count  Dtype         \n",
      "---  ------          --------------  -----         \n",
      " 0   date            58792 non-null  datetime64[ns]\n",
      " 1   tem_loc1        58792 non-null  float64       \n",
      " 2   hum_loc1        58792 non-null  float64       \n",
      " 3   coil_loc1       58792 non-null  float64       \n",
      " 4   tem_loc2        58792 non-null  float64       \n",
      " 5   hum_loc2        58792 non-null  float64       \n",
      " 6   coil_loc2       58792 non-null  float64       \n",
      " 7   tem_loc3        58792 non-null  float64       \n",
      " 8   hum_loc3        58792 non-null  float64       \n",
      " 9   coil_loc3       58792 non-null  float64       \n",
      " 10  tem_out         58792 non-null  float64       \n",
      " 11  hum_out         58792 non-null  float64       \n",
      " 12  cond_loc1       58792 non-null  float64       \n",
      " 13  cond_loc2       58792 non-null  float64       \n",
      " 14  cond_loc3       58792 non-null  float64       \n",
      " 15  X24H_TMA        58792 non-null  object        \n",
      " 16  X24H_cond_loc1  58398 non-null  float64       \n",
      " 17  X24H_cond_loc2  58398 non-null  float64       \n",
      " 18  X24H_cond_loc3  58398 non-null  float64       \n",
      " 19  X48H_TMA        58792 non-null  object        \n",
      " 20  X48H_cond_loc1  58217 non-null  float64       \n",
      " 21  X48H_cond_loc2  58217 non-null  float64       \n",
      " 22  X48H_cond_loc3  58217 non-null  float64       \n",
      " 23  year            58792 non-null  int64         \n",
      " 24  month           58792 non-null  int64         \n",
      " 25  day             58792 non-null  int64         \n",
      " 26  hour            58792 non-null  int64         \n",
      " 27  minute          58792 non-null  int64         \n",
      " 28  second          58792 non-null  int64         \n",
      "dtypes: datetime64[ns](1), float64(20), int64(6), object(2)\n",
      "memory usage: 13.0+ MB\n"
     ]
    }
   ],
   "source": [
    "plant2.info()"
   ]
  },
  {
   "cell_type": "code",
   "execution_count": 8,
   "metadata": {},
   "outputs": [],
   "source": [
    "Y1 = plant2[['X24H_cond_loc1']]\n",
    "Y2 = plant2[['X24H_cond_loc2']]\n",
    "Y3 = plant2[['X24H_cond_loc3']]\n",
    "Y = plant2[['X24H_cond_loc1','X24H_cond_loc2','X24H_cond_loc3']]\n",
    "X = plant2.drop(['X24H_cond_loc1','X24H_cond_loc2','X24H_cond_loc3'],axis=1)\n",
    "X = X.drop(['X48H_TMA','X48H_cond_loc1','X48H_cond_loc2','X48H_cond_loc3'],axis=1)\n",
    "X = X.drop(['date','X24H_TMA'], axis=1)"
   ]
  },
  {
   "cell_type": "code",
   "execution_count": 9,
   "metadata": {},
   "outputs": [
    {
     "name": "stdout",
     "output_type": "stream",
     "text": [
      "<class 'pandas.core.frame.DataFrame'>\n",
      "RangeIndex: 58792 entries, 0 to 58791\n",
      "Data columns (total 20 columns):\n",
      " #   Column     Non-Null Count  Dtype  \n",
      "---  ------     --------------  -----  \n",
      " 0   tem_loc1   58792 non-null  float64\n",
      " 1   hum_loc1   58792 non-null  float64\n",
      " 2   coil_loc1  58792 non-null  float64\n",
      " 3   tem_loc2   58792 non-null  float64\n",
      " 4   hum_loc2   58792 non-null  float64\n",
      " 5   coil_loc2  58792 non-null  float64\n",
      " 6   tem_loc3   58792 non-null  float64\n",
      " 7   hum_loc3   58792 non-null  float64\n",
      " 8   coil_loc3  58792 non-null  float64\n",
      " 9   tem_out    58792 non-null  float64\n",
      " 10  hum_out    58792 non-null  float64\n",
      " 11  cond_loc1  58792 non-null  float64\n",
      " 12  cond_loc2  58792 non-null  float64\n",
      " 13  cond_loc3  58792 non-null  float64\n",
      " 14  year       58792 non-null  int64  \n",
      " 15  month      58792 non-null  int64  \n",
      " 16  day        58792 non-null  int64  \n",
      " 17  hour       58792 non-null  int64  \n",
      " 18  minute     58792 non-null  int64  \n",
      " 19  second     58792 non-null  int64  \n",
      "dtypes: float64(14), int64(6)\n",
      "memory usage: 9.0 MB\n"
     ]
    }
   ],
   "source": [
    "X.info()"
   ]
  },
  {
   "cell_type": "code",
   "execution_count": 10,
   "metadata": {},
   "outputs": [],
   "source": [
    "Y1 = Y1.dropna(axis=0)\n",
    "Y2 = Y2.dropna(axis=0)\n",
    "Y3 = Y3.dropna(axis=0)"
   ]
  },
  {
   "cell_type": "code",
   "execution_count": 11,
   "metadata": {
    "scrolled": true
   },
   "outputs": [
    {
     "name": "stdout",
     "output_type": "stream",
     "text": [
      "(58792, 20) (58398, 1) (58398, 1) (58398, 1)\n"
     ]
    }
   ],
   "source": [
    "print(X.shape, Y1.shape, Y2.shape, Y3.shape)"
   ]
  },
  {
   "cell_type": "code",
   "execution_count": 12,
   "metadata": {},
   "outputs": [],
   "source": [
    "X = X.iloc[0:58398,:]"
   ]
  },
  {
   "cell_type": "code",
   "execution_count": 13,
   "metadata": {},
   "outputs": [
    {
     "name": "stdout",
     "output_type": "stream",
     "text": [
      "(58398, 20) (58398, 1) (58398, 1) (58398, 1)\n"
     ]
    }
   ],
   "source": [
    "print(X.shape, Y1.shape, Y2.shape, Y3.shape)"
   ]
  },
  {
   "cell_type": "code",
   "execution_count": 14,
   "metadata": {
    "scrolled": true
   },
   "outputs": [],
   "source": [
    "from sklearn.model_selection import train_test_split\n",
    "\n",
    "X_train1, X_test1, Y1_train, Y1_test = train_test_split(X,Y1,test_size=0.2)\n",
    "X_train2, X_test2, Y2_train, Y2_test = train_test_split(X,Y2,test_size=0.2)\n",
    "X_train3, X_test3, Y3_train, Y3_test = train_test_split(X,Y3,test_size=0.2)"
   ]
  },
  {
   "cell_type": "code",
   "execution_count": 15,
   "metadata": {},
   "outputs": [],
   "source": [
    "import matplotlib.pyplot as plt\n",
    "import numpy as np\n",
    "from sklearn.tree import DecisionTreeClassifier"
   ]
  },
  {
   "cell_type": "code",
   "execution_count": 22,
   "metadata": {
    "scrolled": true
   },
   "outputs": [
    {
     "name": "stdout",
     "output_type": "stream",
     "text": [
      "훈련 세트 정확도: 0.997\n",
      "테스트 세트 정확도: 0.598\n"
     ]
    }
   ],
   "source": [
    "from sklearn import metrics\n",
    "\n",
    "tree1 = DecisionTreeClassifier(max_depth=4,random_state=0)\n",
    "tree1.fit(X_train1, Y1_train)\n",
    "pred1 = tree1.predict(X_test1)\n",
    "print(\"훈련 세트 정확도: {:.3f}\".format(tree1.score(X_train1, Y1_train)))\n",
    "print(\"테스트 세트 정확도: {:.3f}\".format(metrics.roc_auc_score(Y1_test, pred1)))"
   ]
  },
  {
   "cell_type": "code",
   "execution_count": 23,
   "metadata": {},
   "outputs": [
    {
     "name": "stdout",
     "output_type": "stream",
     "text": [
      "loc2 훈련 세트 정확도: 0.996\n",
      "loc2 테스트 세트 정확도: 0.623\n"
     ]
    }
   ],
   "source": [
    "tree2 = DecisionTreeClassifier(max_depth=4,random_state=0)\n",
    "tree2.fit(X_train2, Y2_train)\n",
    "pred2 = tree2.predict(X_test2)\n",
    "print(\"loc2 훈련 세트 정확도: {:.3f}\".format(tree2.score(X_train2, Y2_train)))\n",
    "print(\"loc2 테스트 세트 정확도: {:.3f}\".format(metrics.roc_auc_score(Y2_test, pred2)))"
   ]
  },
  {
   "cell_type": "code",
   "execution_count": 24,
   "metadata": {
    "scrolled": true
   },
   "outputs": [
    {
     "name": "stdout",
     "output_type": "stream",
     "text": [
      "loc3 훈련 세트 정확도: 0.999\n",
      "loc3 테스트 세트 정확도: 0.750\n"
     ]
    }
   ],
   "source": [
    "tree3 = DecisionTreeClassifier(max_depth=4,random_state=0)\n",
    "tree3.fit(X_train3, Y3_train)\n",
    "pred3 = tree3.predict(X_test3)\n",
    "print(\"loc3 훈련 세트 정확도: {:.3f}\".format(tree3.score(X_train3, Y3_train)))\n",
    "print(\"loc3 테스트 세트 정확도: {:.3f}\".format(metrics.roc_auc_score(Y3_test, pred3)))"
   ]
  },
  {
   "cell_type": "markdown",
   "metadata": {},
   "source": [
    "## --- confusion matrix"
   ]
  },
  {
   "cell_type": "code",
   "execution_count": 121,
   "metadata": {},
   "outputs": [],
   "source": [
    "from sklearn.metrics import confusion_matrix\n",
    "\n",
    "confusion1 = confusion_matrix(Y1_test, pred1)\n",
    "confusion2 = confusion_matrix(Y2_test, pred2)\n",
    "confusion3 = confusion_matrix(Y3_test, pred3)"
   ]
  },
  {
   "cell_type": "code",
   "execution_count": 122,
   "metadata": {
    "scrolled": true
   },
   "outputs": [
    {
     "name": "stdout",
     "output_type": "stream",
     "text": [
      "[[11626     5]\n",
      " [   14    22]]\n",
      "[[11541    23]\n",
      " [   58    45]]\n",
      "[[11534    20]\n",
      " [   67    46]]\n"
     ]
    }
   ],
   "source": [
    "print(confusion1)\n",
    "print(confusion2)\n",
    "print(confusion3)"
   ]
  },
  {
   "cell_type": "code",
   "execution_count": 123,
   "metadata": {
    "scrolled": true
   },
   "outputs": [
    {
     "data": {
      "text/plain": [
       "<matplotlib.axes._subplots.AxesSubplot at 0x264c04d9748>"
      ]
     },
     "execution_count": 123,
     "metadata": {},
     "output_type": "execute_result"
    },
    {
     "data": {
      "image/png": "[encoded data removed]",
      "text/plain": [
       "<Figure size 720x576 with 2 Axes>"
      ]
     },
     "metadata": {},
     "output_type": "display_data"
    }
   ],
   "source": [
    "import seaborn as sns\n",
    "import pandas as pd\n",
    "import matplotlib.pyplot as plt\n",
    "import numpy as np\n",
    "from numpy import linalg as LA\n",
    "%matplotlib inline\n",
    "sns.set(font_scale=2)\n",
    "\n",
    "total1 = np.sum(confusion1, axis=1)\n",
    "array1 = confusion1 / total1[:,None]\n",
    "\n",
    "total2 = np.sum(confusion2, axis=1)\n",
    "array2 = confusion2 / total2[:,None]\n",
    "\n",
    "total3 = np.sum(confusion3, axis=1)\n",
    "array3 = confusion3 / total3[:,None]\n",
    "\n",
    "df = pd.DataFrame(array1, index = [i for i in \"01\"], columns = [i for i in '01'])\n",
    "plt.figure(figsize=(10,8))\n",
    "plt.title('confusion matrix 1')\n",
    "sns.heatmap(df, annot=True)"
   ]
  },
  {
   "cell_type": "code",
   "execution_count": 124,
   "metadata": {},
   "outputs": [
    {
     "data": {
      "text/plain": [
       "<matplotlib.axes._subplots.AxesSubplot at 0x264bfd71908>"
      ]
     },
     "execution_count": 124,
     "metadata": {},
     "output_type": "execute_result"
    },
    {
     "data": {
      "image/png": "[encoded data removed]",
      "text/plain": [
       "<Figure size 720x576 with 2 Axes>"
      ]
     },
     "metadata": {},
     "output_type": "display_data"
    }
   ],
   "source": [
    "import seaborn as sns\n",
    "import pandas as pd\n",
    "import matplotlib.pyplot as plt\n",
    "import numpy as np\n",
    "from numpy import linalg as LA\n",
    "%matplotlib inline\n",
    "sns.set(font_scale=2)\n",
    "\n",
    "\n",
    "df = pd.DataFrame(confusion1, index = [i for i in \"01\"], columns = [i for i in '01'])\n",
    "plt.figure(figsize=(10,8))\n",
    "plt.title('confusion matrix 1')\n",
    "sns.heatmap(df, annot=True, fmt='g')"
   ]
  },
  {
   "cell_type": "code",
   "execution_count": 125,
   "metadata": {},
   "outputs": [
    {
     "data": {
      "text/plain": [
       "<matplotlib.axes._subplots.AxesSubplot at 0x264c04d5688>"
      ]
     },
     "execution_count": 125,
     "metadata": {},
     "output_type": "execute_result"
    },
    {
     "data": {
      "image/png": "[encoded data removed]",
      "text/plain": [
       "<Figure size 720x576 with 2 Axes>"
      ]
     },
     "metadata": {},
     "output_type": "display_data"
    }
   ],
   "source": [
    "df = pd.DataFrame(confusion2, index = [i for i in \"01\"], columns = [i for i in '01'])\n",
    "plt.figure(figsize=(10,8))\n",
    "plt.title('confusion matrix 2')\n",
    "sns.heatmap(df, annot=True, fmt='g')"
   ]
  },
  {
   "cell_type": "code",
   "execution_count": 126,
   "metadata": {},
   "outputs": [
    {
     "data": {
      "text/plain": [
       "<matplotlib.axes._subplots.AxesSubplot at 0x264c47b8488>"
      ]
     },
     "execution_count": 126,
     "metadata": {},
     "output_type": "execute_result"
    },
    {
     "data": {
      "image/png": "[encoded data removed]",
      "text/plain": [
       "<Figure size 720x576 with 2 Axes>"
      ]
     },
     "metadata": {},
     "output_type": "display_data"
    }
   ],
   "source": [
    "df = pd.DataFrame(confusion3, index = [i for i in \"01\"], columns = [i for i in '01'])\n",
    "plt.figure(figsize=(10,8))\n",
    "plt.title('confusion matrix 3')\n",
    "sns.heatmap(df, annot=True, cmap='Blues',  fmt='g')"
   ]
  }
 ],
 "metadata": {
  "kernelspec": {
   "display_name": "Python 3",
   "language": "python",
   "name": "python3"
  },
  "language_info": {
   "codemirror_mode": {
    "name": "ipython",
    "version": 3
   },
   "file_extension": ".py",
   "mimetype": "text/x-python",
   "name": "python",
   "nbconvert_exporter": "python",
   "pygments_lexer": "ipython3",
   "version": "3.7.6"
  }
 },
 "nbformat": 4,
 "nbformat_minor": 4
}
