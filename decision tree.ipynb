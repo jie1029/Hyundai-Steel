{
 "cells": [
  {
   "cell_type": "code",
   "execution_count": 1,
   "metadata": {},
   "outputs": [
    {
     "data": {
      "text/html": [
       "<div>\n",
       "<style scoped>\n",
       "    .dataframe tbody tr th:only-of-type {\n",
       "        vertical-align: middle;\n",
       "    }\n",
       "\n",
       "    .dataframe tbody tr th {\n",
       "        vertical-align: top;\n",
       "    }\n",
       "\n",
       "    .dataframe thead th {\n",
       "        text-align: right;\n",
       "    }\n",
       "</style>\n",
       "<table border=\"1\" class=\"dataframe\">\n",
       "  <thead>\n",
       "    <tr style=\"text-align: right;\">\n",
       "      <th></th>\n",
       "      <th>Unnamed: 0</th>\n",
       "      <th>plant1_train.mea_ddhr</th>\n",
       "      <th>plant1_train.tem_in_loc1</th>\n",
       "      <th>plant1_train.hum_in_loc1</th>\n",
       "      <th>plant1_train.tem_coil_loc1</th>\n",
       "      <th>plant1_train.tem_in_loc2</th>\n",
       "      <th>plant1_train.hum_in_loc2</th>\n",
       "      <th>plant1_train.tem_coil_loc2</th>\n",
       "      <th>plant1_train.tem_in_loc3</th>\n",
       "      <th>plant1_train.hum_in_loc3</th>\n",
       "      <th>plant1_train.tem_coil_loc3</th>\n",
       "      <th>plant1_train.tem_out_loc1</th>\n",
       "      <th>plant1_train.hum_out_loc1</th>\n",
       "      <th>plant1_train.cond_loc1</th>\n",
       "      <th>plant1_train.cond_loc2</th>\n",
       "      <th>plant1_train.cond_loc3</th>\n",
       "    </tr>\n",
       "  </thead>\n",
       "  <tbody>\n",
       "    <tr>\n",
       "      <th>0</th>\n",
       "      <td>1</td>\n",
       "      <td>2016-04-01 00:00:00</td>\n",
       "      <td>16.0</td>\n",
       "      <td>24.0</td>\n",
       "      <td>11.0</td>\n",
       "      <td>14.0</td>\n",
       "      <td>23.0</td>\n",
       "      <td>11.0</td>\n",
       "      <td>13.0</td>\n",
       "      <td>32.0</td>\n",
       "      <td>10.0</td>\n",
       "      <td>9.0</td>\n",
       "      <td>42.0</td>\n",
       "      <td>0.0</td>\n",
       "      <td>0.0</td>\n",
       "      <td>0.0</td>\n",
       "    </tr>\n",
       "    <tr>\n",
       "      <th>1</th>\n",
       "      <td>2</td>\n",
       "      <td>2016-04-01 03:00:00</td>\n",
       "      <td>14.0</td>\n",
       "      <td>28.0</td>\n",
       "      <td>10.0</td>\n",
       "      <td>12.0</td>\n",
       "      <td>32.0</td>\n",
       "      <td>9.0</td>\n",
       "      <td>11.0</td>\n",
       "      <td>42.0</td>\n",
       "      <td>7.0</td>\n",
       "      <td>7.0</td>\n",
       "      <td>59.0</td>\n",
       "      <td>0.0</td>\n",
       "      <td>0.0</td>\n",
       "      <td>0.0</td>\n",
       "    </tr>\n",
       "    <tr>\n",
       "      <th>2</th>\n",
       "      <td>3</td>\n",
       "      <td>2016-04-01 06:00:00</td>\n",
       "      <td>13.0</td>\n",
       "      <td>33.0</td>\n",
       "      <td>10.0</td>\n",
       "      <td>11.0</td>\n",
       "      <td>37.0</td>\n",
       "      <td>9.0</td>\n",
       "      <td>10.0</td>\n",
       "      <td>44.0</td>\n",
       "      <td>7.0</td>\n",
       "      <td>6.0</td>\n",
       "      <td>56.0</td>\n",
       "      <td>0.0</td>\n",
       "      <td>0.0</td>\n",
       "      <td>0.0</td>\n",
       "    </tr>\n",
       "    <tr>\n",
       "      <th>3</th>\n",
       "      <td>4</td>\n",
       "      <td>2016-04-01 09:00:00</td>\n",
       "      <td>13.0</td>\n",
       "      <td>33.0</td>\n",
       "      <td>10.0</td>\n",
       "      <td>11.0</td>\n",
       "      <td>35.0</td>\n",
       "      <td>9.0</td>\n",
       "      <td>10.0</td>\n",
       "      <td>41.0</td>\n",
       "      <td>8.0</td>\n",
       "      <td>18.0</td>\n",
       "      <td>30.0</td>\n",
       "      <td>0.0</td>\n",
       "      <td>0.0</td>\n",
       "      <td>0.0</td>\n",
       "    </tr>\n",
       "    <tr>\n",
       "      <th>4</th>\n",
       "      <td>5</td>\n",
       "      <td>2016-04-01 12:00:00</td>\n",
       "      <td>16.0</td>\n",
       "      <td>28.0</td>\n",
       "      <td>10.0</td>\n",
       "      <td>15.0</td>\n",
       "      <td>27.0</td>\n",
       "      <td>11.0</td>\n",
       "      <td>14.0</td>\n",
       "      <td>30.0</td>\n",
       "      <td>9.0</td>\n",
       "      <td>18.0</td>\n",
       "      <td>20.0</td>\n",
       "      <td>0.0</td>\n",
       "      <td>0.0</td>\n",
       "      <td>0.0</td>\n",
       "    </tr>\n",
       "    <tr>\n",
       "      <th>5</th>\n",
       "      <td>6</td>\n",
       "      <td>2016-04-01 15:00:00</td>\n",
       "      <td>18.0</td>\n",
       "      <td>24.0</td>\n",
       "      <td>14.0</td>\n",
       "      <td>18.0</td>\n",
       "      <td>21.0</td>\n",
       "      <td>14.0</td>\n",
       "      <td>16.0</td>\n",
       "      <td>27.0</td>\n",
       "      <td>12.0</td>\n",
       "      <td>17.0</td>\n",
       "      <td>23.0</td>\n",
       "      <td>0.0</td>\n",
       "      <td>0.0</td>\n",
       "      <td>0.0</td>\n",
       "    </tr>\n",
       "    <tr>\n",
       "      <th>6</th>\n",
       "      <td>7</td>\n",
       "      <td>2016-04-01 18:00:00</td>\n",
       "      <td>17.0</td>\n",
       "      <td>28.0</td>\n",
       "      <td>14.0</td>\n",
       "      <td>17.0</td>\n",
       "      <td>29.0</td>\n",
       "      <td>14.0</td>\n",
       "      <td>15.0</td>\n",
       "      <td>38.0</td>\n",
       "      <td>12.0</td>\n",
       "      <td>12.0</td>\n",
       "      <td>52.0</td>\n",
       "      <td>0.0</td>\n",
       "      <td>0.0</td>\n",
       "      <td>0.0</td>\n",
       "    </tr>\n",
       "    <tr>\n",
       "      <th>7</th>\n",
       "      <td>8</td>\n",
       "      <td>2016-04-01 21:00:00</td>\n",
       "      <td>16.0</td>\n",
       "      <td>38.0</td>\n",
       "      <td>12.0</td>\n",
       "      <td>15.0</td>\n",
       "      <td>36.0</td>\n",
       "      <td>12.0</td>\n",
       "      <td>14.0</td>\n",
       "      <td>41.0</td>\n",
       "      <td>11.0</td>\n",
       "      <td>11.0</td>\n",
       "      <td>55.0</td>\n",
       "      <td>0.0</td>\n",
       "      <td>0.0</td>\n",
       "      <td>0.0</td>\n",
       "    </tr>\n",
       "    <tr>\n",
       "      <th>8</th>\n",
       "      <td>9</td>\n",
       "      <td>2016-04-02 00:00:00</td>\n",
       "      <td>15.0</td>\n",
       "      <td>41.0</td>\n",
       "      <td>12.0</td>\n",
       "      <td>14.0</td>\n",
       "      <td>43.0</td>\n",
       "      <td>12.0</td>\n",
       "      <td>13.0</td>\n",
       "      <td>49.0</td>\n",
       "      <td>11.0</td>\n",
       "      <td>10.0</td>\n",
       "      <td>57.0</td>\n",
       "      <td>0.0</td>\n",
       "      <td>0.0</td>\n",
       "      <td>0.0</td>\n",
       "    </tr>\n",
       "    <tr>\n",
       "      <th>9</th>\n",
       "      <td>10</td>\n",
       "      <td>2016-04-02 03:00:00</td>\n",
       "      <td>14.0</td>\n",
       "      <td>41.0</td>\n",
       "      <td>10.0</td>\n",
       "      <td>12.0</td>\n",
       "      <td>44.0</td>\n",
       "      <td>9.0</td>\n",
       "      <td>12.0</td>\n",
       "      <td>49.0</td>\n",
       "      <td>8.0</td>\n",
       "      <td>10.0</td>\n",
       "      <td>54.0</td>\n",
       "      <td>0.0</td>\n",
       "      <td>0.0</td>\n",
       "      <td>0.0</td>\n",
       "    </tr>\n",
       "  </tbody>\n",
       "</table>\n",
       "</div>"
      ],
      "text/plain": [
       "   Unnamed: 0 plant1_train.mea_ddhr  plant1_train.tem_in_loc1  \\\n",
       "0           1   2016-04-01 00:00:00                      16.0   \n",
       "1           2   2016-04-01 03:00:00                      14.0   \n",
       "2           3   2016-04-01 06:00:00                      13.0   \n",
       "3           4   2016-04-01 09:00:00                      13.0   \n",
       "4           5   2016-04-01 12:00:00                      16.0   \n",
       "5           6   2016-04-01 15:00:00                      18.0   \n",
       "6           7   2016-04-01 18:00:00                      17.0   \n",
       "7           8   2016-04-01 21:00:00                      16.0   \n",
       "8           9   2016-04-02 00:00:00                      15.0   \n",
       "9          10   2016-04-02 03:00:00                      14.0   \n",
       "\n",
       "   plant1_train.hum_in_loc1  plant1_train.tem_coil_loc1  \\\n",
       "0                      24.0                        11.0   \n",
       "1                      28.0                        10.0   \n",
       "2                      33.0                        10.0   \n",
       "3                      33.0                        10.0   \n",
       "4                      28.0                        10.0   \n",
       "5                      24.0                        14.0   \n",
       "6                      28.0                        14.0   \n",
       "7                      38.0                        12.0   \n",
       "8                      41.0                        12.0   \n",
       "9                      41.0                        10.0   \n",
       "\n",
       "   plant1_train.tem_in_loc2  plant1_train.hum_in_loc2  \\\n",
       "0                      14.0                      23.0   \n",
       "1                      12.0                      32.0   \n",
       "2                      11.0                      37.0   \n",
       "3                      11.0                      35.0   \n",
       "4                      15.0                      27.0   \n",
       "5                      18.0                      21.0   \n",
       "6                      17.0                      29.0   \n",
       "7                      15.0                      36.0   \n",
       "8                      14.0                      43.0   \n",
       "9                      12.0                      44.0   \n",
       "\n",
       "   plant1_train.tem_coil_loc2  plant1_train.tem_in_loc3  \\\n",
       "0                        11.0                      13.0   \n",
       "1                         9.0                      11.0   \n",
       "2                         9.0                      10.0   \n",
       "3                         9.0                      10.0   \n",
       "4                        11.0                      14.0   \n",
       "5                        14.0                      16.0   \n",
       "6                        14.0                      15.0   \n",
       "7                        12.0                      14.0   \n",
       "8                        12.0                      13.0   \n",
       "9                         9.0                      12.0   \n",
       "\n",
       "   plant1_train.hum_in_loc3  plant1_train.tem_coil_loc3  \\\n",
       "0                      32.0                        10.0   \n",
       "1                      42.0                         7.0   \n",
       "2                      44.0                         7.0   \n",
       "3                      41.0                         8.0   \n",
       "4                      30.0                         9.0   \n",
       "5                      27.0                        12.0   \n",
       "6                      38.0                        12.0   \n",
       "7                      41.0                        11.0   \n",
       "8                      49.0                        11.0   \n",
       "9                      49.0                         8.0   \n",
       "\n",
       "   plant1_train.tem_out_loc1  plant1_train.hum_out_loc1  \\\n",
       "0                        9.0                       42.0   \n",
       "1                        7.0                       59.0   \n",
       "2                        6.0                       56.0   \n",
       "3                       18.0                       30.0   \n",
       "4                       18.0                       20.0   \n",
       "5                       17.0                       23.0   \n",
       "6                       12.0                       52.0   \n",
       "7                       11.0                       55.0   \n",
       "8                       10.0                       57.0   \n",
       "9                       10.0                       54.0   \n",
       "\n",
       "   plant1_train.cond_loc1  plant1_train.cond_loc2  plant1_train.cond_loc3  \n",
       "0                     0.0                     0.0                     0.0  \n",
       "1                     0.0                     0.0                     0.0  \n",
       "2                     0.0                     0.0                     0.0  \n",
       "3                     0.0                     0.0                     0.0  \n",
       "4                     0.0                     0.0                     0.0  \n",
       "5                     0.0                     0.0                     0.0  \n",
       "6                     0.0                     0.0                     0.0  \n",
       "7                     0.0                     0.0                     0.0  \n",
       "8                     0.0                     0.0                     0.0  \n",
       "9                     0.0                     0.0                     0.0  "
      ]
     },
     "execution_count": 1,
     "metadata": {},
     "output_type": "execute_result"
    }
   ],
   "source": [
    "import pandas as pd\n",
    "\n",
    "plant1 = pd.read_csv('./plant1_train.csv',parse_dates=['plant1_train.mea_ddhr'])\n",
    "plant1.head(10)"
   ]
  },
  {
   "cell_type": "code",
   "execution_count": 2,
   "metadata": {},
   "outputs": [],
   "source": [
    "del plant1['Unnamed: 0']"
   ]
  },
  {
   "cell_type": "code",
   "execution_count": 3,
   "metadata": {},
   "outputs": [
    {
     "data": {
      "text/html": [
       "<div>\n",
       "<style scoped>\n",
       "    .dataframe tbody tr th:only-of-type {\n",
       "        vertical-align: middle;\n",
       "    }\n",
       "\n",
       "    .dataframe tbody tr th {\n",
       "        vertical-align: top;\n",
       "    }\n",
       "\n",
       "    .dataframe thead th {\n",
       "        text-align: right;\n",
       "    }\n",
       "</style>\n",
       "<table border=\"1\" class=\"dataframe\">\n",
       "  <thead>\n",
       "    <tr style=\"text-align: right;\">\n",
       "      <th></th>\n",
       "      <th>plant1_train.mea_ddhr</th>\n",
       "      <th>plant1_train.tem_in_loc1</th>\n",
       "      <th>plant1_train.hum_in_loc1</th>\n",
       "      <th>plant1_train.tem_coil_loc1</th>\n",
       "      <th>plant1_train.tem_in_loc2</th>\n",
       "      <th>plant1_train.hum_in_loc2</th>\n",
       "      <th>plant1_train.tem_coil_loc2</th>\n",
       "      <th>plant1_train.tem_in_loc3</th>\n",
       "      <th>plant1_train.hum_in_loc3</th>\n",
       "      <th>plant1_train.tem_coil_loc3</th>\n",
       "      <th>...</th>\n",
       "      <th>plant1_train.hum_out_loc1</th>\n",
       "      <th>plant1_train.cond_loc1</th>\n",
       "      <th>plant1_train.cond_loc2</th>\n",
       "      <th>plant1_train.cond_loc3</th>\n",
       "      <th>year</th>\n",
       "      <th>month</th>\n",
       "      <th>day</th>\n",
       "      <th>hour</th>\n",
       "      <th>minute</th>\n",
       "      <th>second</th>\n",
       "    </tr>\n",
       "  </thead>\n",
       "  <tbody>\n",
       "    <tr>\n",
       "      <th>0</th>\n",
       "      <td>2016-04-01 00:00:00</td>\n",
       "      <td>16.0</td>\n",
       "      <td>24.0</td>\n",
       "      <td>11.0</td>\n",
       "      <td>14.0</td>\n",
       "      <td>23.0</td>\n",
       "      <td>11.0</td>\n",
       "      <td>13.0</td>\n",
       "      <td>32.0</td>\n",
       "      <td>10.0</td>\n",
       "      <td>...</td>\n",
       "      <td>42.0</td>\n",
       "      <td>0.0</td>\n",
       "      <td>0.0</td>\n",
       "      <td>0.0</td>\n",
       "      <td>2016</td>\n",
       "      <td>4</td>\n",
       "      <td>1</td>\n",
       "      <td>0</td>\n",
       "      <td>0</td>\n",
       "      <td>0</td>\n",
       "    </tr>\n",
       "    <tr>\n",
       "      <th>1</th>\n",
       "      <td>2016-04-01 03:00:00</td>\n",
       "      <td>14.0</td>\n",
       "      <td>28.0</td>\n",
       "      <td>10.0</td>\n",
       "      <td>12.0</td>\n",
       "      <td>32.0</td>\n",
       "      <td>9.0</td>\n",
       "      <td>11.0</td>\n",
       "      <td>42.0</td>\n",
       "      <td>7.0</td>\n",
       "      <td>...</td>\n",
       "      <td>59.0</td>\n",
       "      <td>0.0</td>\n",
       "      <td>0.0</td>\n",
       "      <td>0.0</td>\n",
       "      <td>2016</td>\n",
       "      <td>4</td>\n",
       "      <td>1</td>\n",
       "      <td>3</td>\n",
       "      <td>0</td>\n",
       "      <td>0</td>\n",
       "    </tr>\n",
       "    <tr>\n",
       "      <th>2</th>\n",
       "      <td>2016-04-01 06:00:00</td>\n",
       "      <td>13.0</td>\n",
       "      <td>33.0</td>\n",
       "      <td>10.0</td>\n",
       "      <td>11.0</td>\n",
       "      <td>37.0</td>\n",
       "      <td>9.0</td>\n",
       "      <td>10.0</td>\n",
       "      <td>44.0</td>\n",
       "      <td>7.0</td>\n",
       "      <td>...</td>\n",
       "      <td>56.0</td>\n",
       "      <td>0.0</td>\n",
       "      <td>0.0</td>\n",
       "      <td>0.0</td>\n",
       "      <td>2016</td>\n",
       "      <td>4</td>\n",
       "      <td>1</td>\n",
       "      <td>6</td>\n",
       "      <td>0</td>\n",
       "      <td>0</td>\n",
       "    </tr>\n",
       "    <tr>\n",
       "      <th>3</th>\n",
       "      <td>2016-04-01 09:00:00</td>\n",
       "      <td>13.0</td>\n",
       "      <td>33.0</td>\n",
       "      <td>10.0</td>\n",
       "      <td>11.0</td>\n",
       "      <td>35.0</td>\n",
       "      <td>9.0</td>\n",
       "      <td>10.0</td>\n",
       "      <td>41.0</td>\n",
       "      <td>8.0</td>\n",
       "      <td>...</td>\n",
       "      <td>30.0</td>\n",
       "      <td>0.0</td>\n",
       "      <td>0.0</td>\n",
       "      <td>0.0</td>\n",
       "      <td>2016</td>\n",
       "      <td>4</td>\n",
       "      <td>1</td>\n",
       "      <td>9</td>\n",
       "      <td>0</td>\n",
       "      <td>0</td>\n",
       "    </tr>\n",
       "    <tr>\n",
       "      <th>4</th>\n",
       "      <td>2016-04-01 12:00:00</td>\n",
       "      <td>16.0</td>\n",
       "      <td>28.0</td>\n",
       "      <td>10.0</td>\n",
       "      <td>15.0</td>\n",
       "      <td>27.0</td>\n",
       "      <td>11.0</td>\n",
       "      <td>14.0</td>\n",
       "      <td>30.0</td>\n",
       "      <td>9.0</td>\n",
       "      <td>...</td>\n",
       "      <td>20.0</td>\n",
       "      <td>0.0</td>\n",
       "      <td>0.0</td>\n",
       "      <td>0.0</td>\n",
       "      <td>2016</td>\n",
       "      <td>4</td>\n",
       "      <td>1</td>\n",
       "      <td>12</td>\n",
       "      <td>0</td>\n",
       "      <td>0</td>\n",
       "    </tr>\n",
       "  </tbody>\n",
       "</table>\n",
       "<p>5 rows × 21 columns</p>\n",
       "</div>"
      ],
      "text/plain": [
       "  plant1_train.mea_ddhr  plant1_train.tem_in_loc1  plant1_train.hum_in_loc1  \\\n",
       "0   2016-04-01 00:00:00                      16.0                      24.0   \n",
       "1   2016-04-01 03:00:00                      14.0                      28.0   \n",
       "2   2016-04-01 06:00:00                      13.0                      33.0   \n",
       "3   2016-04-01 09:00:00                      13.0                      33.0   \n",
       "4   2016-04-01 12:00:00                      16.0                      28.0   \n",
       "\n",
       "   plant1_train.tem_coil_loc1  plant1_train.tem_in_loc2  \\\n",
       "0                        11.0                      14.0   \n",
       "1                        10.0                      12.0   \n",
       "2                        10.0                      11.0   \n",
       "3                        10.0                      11.0   \n",
       "4                        10.0                      15.0   \n",
       "\n",
       "   plant1_train.hum_in_loc2  plant1_train.tem_coil_loc2  \\\n",
       "0                      23.0                        11.0   \n",
       "1                      32.0                         9.0   \n",
       "2                      37.0                         9.0   \n",
       "3                      35.0                         9.0   \n",
       "4                      27.0                        11.0   \n",
       "\n",
       "   plant1_train.tem_in_loc3  plant1_train.hum_in_loc3  \\\n",
       "0                      13.0                      32.0   \n",
       "1                      11.0                      42.0   \n",
       "2                      10.0                      44.0   \n",
       "3                      10.0                      41.0   \n",
       "4                      14.0                      30.0   \n",
       "\n",
       "   plant1_train.tem_coil_loc3  ...  plant1_train.hum_out_loc1  \\\n",
       "0                        10.0  ...                       42.0   \n",
       "1                         7.0  ...                       59.0   \n",
       "2                         7.0  ...                       56.0   \n",
       "3                         8.0  ...                       30.0   \n",
       "4                         9.0  ...                       20.0   \n",
       "\n",
       "   plant1_train.cond_loc1  plant1_train.cond_loc2  plant1_train.cond_loc3  \\\n",
       "0                     0.0                     0.0                     0.0   \n",
       "1                     0.0                     0.0                     0.0   \n",
       "2                     0.0                     0.0                     0.0   \n",
       "3                     0.0                     0.0                     0.0   \n",
       "4                     0.0                     0.0                     0.0   \n",
       "\n",
       "   year  month  day  hour  minute  second  \n",
       "0  2016      4    1     0       0       0  \n",
       "1  2016      4    1     3       0       0  \n",
       "2  2016      4    1     6       0       0  \n",
       "3  2016      4    1     9       0       0  \n",
       "4  2016      4    1    12       0       0  \n",
       "\n",
       "[5 rows x 21 columns]"
      ]
     },
     "execution_count": 3,
     "metadata": {},
     "output_type": "execute_result"
    }
   ],
   "source": [
    "plant1[\"year\"] = plant1[\"plant1_train.mea_ddhr\"].dt.year\n",
    "plant1[\"month\"] = plant1[\"plant1_train.mea_ddhr\"].dt.month\n",
    "plant1[\"day\"] = plant1[\"plant1_train.mea_ddhr\"].dt.day\n",
    "plant1[\"hour\"] = plant1[\"plant1_train.mea_ddhr\"].dt.hour\n",
    "plant1[\"minute\"] = plant1[\"plant1_train.mea_ddhr\"].dt.minute\n",
    "plant1[\"second\"] = plant1[\"plant1_train.mea_ddhr\"].dt.second\n",
    "plant1.head()"
   ]
  },
  {
   "cell_type": "code",
   "execution_count": 4,
   "metadata": {},
   "outputs": [],
   "source": [
    "plant1_del = plant1.dropna(axis=0)"
   ]
  },
  {
   "cell_type": "code",
   "execution_count": 5,
   "metadata": {},
   "outputs": [],
   "source": [
    "Y1 = plant1_del[['plant1_train.cond_loc1']]\n",
    "Y2 = plant1_del[['plant1_train.cond_loc2']]\n",
    "Y3 = plant1_del[['plant1_train.cond_loc3']]\n",
    "Y = plant1_del[['plant1_train.cond_loc1','plant1_train.cond_loc2','plant1_train.cond_loc3']]\n",
    "X = plant1_del.drop(['plant1_train.mea_ddhr','plant1_train.cond_loc1','plant1_train.cond_loc2','plant1_train.cond_loc3'],axis=1)"
   ]
  },
  {
   "cell_type": "code",
   "execution_count": 6,
   "metadata": {},
   "outputs": [
    {
     "data": {
      "text/html": [
       "<div>\n",
       "<style scoped>\n",
       "    .dataframe tbody tr th:only-of-type {\n",
       "        vertical-align: middle;\n",
       "    }\n",
       "\n",
       "    .dataframe tbody tr th {\n",
       "        vertical-align: top;\n",
       "    }\n",
       "\n",
       "    .dataframe thead th {\n",
       "        text-align: right;\n",
       "    }\n",
       "</style>\n",
       "<table border=\"1\" class=\"dataframe\">\n",
       "  <thead>\n",
       "    <tr style=\"text-align: right;\">\n",
       "      <th></th>\n",
       "      <th>plant1_train.cond_loc1</th>\n",
       "    </tr>\n",
       "  </thead>\n",
       "  <tbody>\n",
       "    <tr>\n",
       "      <th>0</th>\n",
       "      <td>0.0</td>\n",
       "    </tr>\n",
       "    <tr>\n",
       "      <th>1</th>\n",
       "      <td>0.0</td>\n",
       "    </tr>\n",
       "    <tr>\n",
       "      <th>2</th>\n",
       "      <td>0.0</td>\n",
       "    </tr>\n",
       "    <tr>\n",
       "      <th>3</th>\n",
       "      <td>0.0</td>\n",
       "    </tr>\n",
       "    <tr>\n",
       "      <th>4</th>\n",
       "      <td>0.0</td>\n",
       "    </tr>\n",
       "  </tbody>\n",
       "</table>\n",
       "</div>"
      ],
      "text/plain": [
       "   plant1_train.cond_loc1\n",
       "0                     0.0\n",
       "1                     0.0\n",
       "2                     0.0\n",
       "3                     0.0\n",
       "4                     0.0"
      ]
     },
     "execution_count": 6,
     "metadata": {},
     "output_type": "execute_result"
    }
   ],
   "source": [
    "Y1.head()"
   ]
  },
  {
   "cell_type": "code",
   "execution_count": 10,
   "metadata": {},
   "outputs": [],
   "source": [
    "from sklearn.model_selection import train_test_split\n",
    "\n",
    "X_train1, X_test1, Y1_train, Y1_test = train_test_split(X,Y1,test_size=0.2)\n",
    "X_train2, X_test2, Y2_train, Y2_test = train_test_split(X,Y2,test_size=0.2)\n",
    "X_train3, X_test3, Y3_train, Y3_test = train_test_split(X,Y3,test_size=0.2)"
   ]
  },
  {
   "cell_type": "code",
   "execution_count": 11,
   "metadata": {},
   "outputs": [],
   "source": [
    "import matplotlib.pyplot as plt\n",
    "import numpy as np\n",
    "from sklearn.tree import DecisionTreeClassifier"
   ]
  },
  {
   "cell_type": "code",
   "execution_count": 12,
   "metadata": {},
   "outputs": [],
   "source": [
    "tree1 = DecisionTreeClassifier(random_state=0)"
   ]
  },
  {
   "cell_type": "code",
   "execution_count": 13,
   "metadata": {
    "scrolled": true
   },
   "outputs": [
    {
     "data": {
      "text/plain": [
       "DecisionTreeClassifier(ccp_alpha=0.0, class_weight=None, criterion='gini',\n",
       "                       max_depth=None, max_features=None, max_leaf_nodes=None,\n",
       "                       min_impurity_decrease=0.0, min_impurity_split=None,\n",
       "                       min_samples_leaf=1, min_samples_split=2,\n",
       "                       min_weight_fraction_leaf=0.0, presort='deprecated',\n",
       "                       random_state=0, splitter='best')"
      ]
     },
     "execution_count": 13,
     "metadata": {},
     "output_type": "execute_result"
    }
   ],
   "source": [
    "tree1.fit(X_train1, Y1_train)"
   ]
  },
  {
   "cell_type": "code",
   "execution_count": 14,
   "metadata": {},
   "outputs": [],
   "source": [
    "pred1 = tree1.predict(X_test1)"
   ]
  },
  {
   "cell_type": "code",
   "execution_count": 17,
   "metadata": {},
   "outputs": [
    {
     "name": "stdout",
     "output_type": "stream",
     "text": [
      "[0. 0. 0. ... 0. 0. 0.]\n"
     ]
    }
   ],
   "source": [
    "print(pred1)"
   ]
  },
  {
   "cell_type": "code",
   "execution_count": 24,
   "metadata": {
    "scrolled": true
   },
   "outputs": [
    {
     "name": "stdout",
     "output_type": "stream",
     "text": [
      "훈련 세트 정확도: 0.998\n",
      "테스트 세트 정확도: 0.838\n"
     ]
    }
   ],
   "source": [
    "from sklearn import metrics\n",
    "\n",
    "tree1 = DecisionTreeClassifier(max_depth=4,random_state=0)\n",
    "tree1.fit(X_train1, Y1_train)\n",
    "pred1 = tree1.predict(X_test1)\n",
    "print(\"훈련 세트 정확도: {:.3f}\".format(tree1.score(X_train1, Y1_train)))\n",
    "print(\"테스트 세트 정확도: {:.3f}\".format(metrics.roc_auc_score(Y1_test, pred1)))"
   ]
  },
  {
   "cell_type": "code",
   "execution_count": 25,
   "metadata": {},
   "outputs": [
    {
     "name": "stdout",
     "output_type": "stream",
     "text": [
      "loc2 훈련 세트 정확도: 0.997\n",
      "loc2 테스트 세트 정확도: 0.802\n"
     ]
    }
   ],
   "source": [
    "tree2 = DecisionTreeClassifier(max_depth=4,random_state=0)\n",
    "tree2.fit(X_train2, Y2_train)\n",
    "pred2 = tree2.predict(X_test2)\n",
    "print(\"loc2 훈련 세트 정확도: {:.3f}\".format(tree2.score(X_train2, Y2_train)))\n",
    "print(\"loc2 테스트 세트 정확도: {:.3f}\".format(metrics.roc_auc_score(Y2_test, pred2)))"
   ]
  },
  {
   "cell_type": "code",
   "execution_count": 26,
   "metadata": {
    "scrolled": true
   },
   "outputs": [
    {
     "name": "stdout",
     "output_type": "stream",
     "text": [
      "loc3 훈련 세트 정확도: 0.996\n",
      "loc3 테스트 세트 정확도: 0.796\n"
     ]
    }
   ],
   "source": [
    "tree3 = DecisionTreeClassifier(max_depth=4,random_state=0)\n",
    "tree3.fit(X_train3, Y3_train)\n",
    "pred3 = tree3.predict(X_test3)\n",
    "print(\"loc3 훈련 세트 정확도: {:.3f}\".format(tree3.score(X_train3, Y3_train)))\n",
    "print(\"loc3 테스트 세트 정확도: {:.3f}\".format(metrics.roc_auc_score(Y3_test, pred3)))"
   ]
  },
  {
   "cell_type": "markdown",
   "metadata": {},
   "source": [
    "## --- confusion matrix"
   ]
  },
  {
   "cell_type": "code",
   "execution_count": 28,
   "metadata": {},
   "outputs": [],
   "source": [
    "from sklearn.metrics import confusion_matrix\n",
    "\n",
    "confusion1 = confusion_matrix(Y1_test, pred1)\n",
    "confusion2 = confusion_matrix(Y2_test, pred2)\n",
    "confusion3 = confusion_matrix(Y3_test, pred3)"
   ]
  },
  {
   "cell_type": "code",
   "execution_count": 29,
   "metadata": {
    "scrolled": true
   },
   "outputs": [
    {
     "name": "stdout",
     "output_type": "stream",
     "text": [
      "[[11504     5]\n",
      " [   20    42]]\n",
      "[[11472     3]\n",
      " [   38    58]]\n",
      "[[11437     4]\n",
      " [   53    77]]\n"
     ]
    }
   ],
   "source": [
    "print(confusion1)\n",
    "print(confusion2)\n",
    "print(confusion3)"
   ]
  },
  {
   "cell_type": "code",
   "execution_count": 30,
   "metadata": {
    "scrolled": true
   },
   "outputs": [
    {
     "data": {
      "text/plain": [
       "<matplotlib.axes._subplots.AxesSubplot at 0x2a69d30c5c8>"
      ]
     },
     "execution_count": 30,
     "metadata": {},
     "output_type": "execute_result"
    },
    {
     "data": {
      "image/png": "[encoded data removed]",
      "text/plain": [
       "<Figure size 720x576 with 2 Axes>"
      ]
     },
     "metadata": {},
     "output_type": "display_data"
    }
   ],
   "source": [
    "import seaborn as sns\n",
    "import pandas as pd\n",
    "import matplotlib.pyplot as plt\n",
    "import numpy as np\n",
    "from numpy import linalg as LA\n",
    "%matplotlib inline\n",
    "sns.set(font_scale=2)\n",
    "\n",
    "total1 = np.sum(confusion1, axis=1)\n",
    "array1 = confusion1 / total1[:,None]\n",
    "\n",
    "total2 = np.sum(confusion2, axis=1)\n",
    "array2 = confusion2 / total2[:,None]\n",
    "\n",
    "total3 = np.sum(confusion3, axis=1)\n",
    "array3 = confusion3 / total3[:,None]\n",
    "\n",
    "df = pd.DataFrame(array1, index = [i for i in \"01\"], columns = [i for i in '01'])\n",
    "plt.figure(figsize=(10,8))\n",
    "plt.title('confusion matrix 1')\n",
    "sns.heatmap(df, annot=True)"
   ]
  },
  {
   "cell_type": "code",
   "execution_count": 33,
   "metadata": {},
   "outputs": [
    {
     "data": {
      "text/plain": [
       "<matplotlib.axes._subplots.AxesSubplot at 0x2a69cfeb288>"
      ]
     },
     "execution_count": 33,
     "metadata": {},
     "output_type": "execute_result"
    },
    {
     "data": {
      "image/png": "[encoded data removed]",
      "text/plain": [
       "<Figure size 720x576 with 2 Axes>"
      ]
     },
     "metadata": {},
     "output_type": "display_data"
    }
   ],
   "source": [
    "import seaborn as sns\n",
    "import pandas as pd\n",
    "import matplotlib.pyplot as plt\n",
    "import numpy as np\n",
    "from numpy import linalg as LA\n",
    "%matplotlib inline\n",
    "sns.set(font_scale=2)\n",
    "\n",
    "\n",
    "df = pd.DataFrame(confusion1, index = [i for i in \"01\"], columns = [i for i in '01'])\n",
    "plt.figure(figsize=(10,8))\n",
    "plt.title('confusion matrix 1')\n",
    "sns.heatmap(df, annot=True, fmt='g')"
   ]
  },
  {
   "cell_type": "code",
   "execution_count": 34,
   "metadata": {},
   "outputs": [
    {
     "data": {
      "text/plain": [
       "<matplotlib.axes._subplots.AxesSubplot at 0x2a69d411ec8>"
      ]
     },
     "execution_count": 34,
     "metadata": {},
     "output_type": "execute_result"
    },
    {
     "data": {
      "image/png": "[encoded data removed]",
      "text/plain": [
       "<Figure size 720x576 with 2 Axes>"
      ]
     },
     "metadata": {},
     "output_type": "display_data"
    }
   ],
   "source": [
    "df = pd.DataFrame(confusion2, index = [i for i in \"01\"], columns = [i for i in '01'])\n",
    "plt.figure(figsize=(10,8))\n",
    "plt.title('confusion matrix 2')\n",
    "sns.heatmap(df, annot=True, fmt='g')"
   ]
  },
  {
   "cell_type": "code",
   "execution_count": 37,
   "metadata": {},
   "outputs": [
    {
     "data": {
      "text/plain": [
       "<matplotlib.axes._subplots.AxesSubplot at 0x2a69d723dc8>"
      ]
     },
     "execution_count": 37,
     "metadata": {},
     "output_type": "execute_result"
    },
    {
     "data": {
      "image/png": "[encoded data removed]",
      "text/plain": [
       "<Figure size 720x576 with 2 Axes>"
      ]
     },
     "metadata": {},
     "output_type": "display_data"
    }
   ],
   "source": [
    "df = pd.DataFrame(confusion3, index = [i for i in \"01\"], columns = [i for i in '01'])\n",
    "plt.figure(figsize=(10,8))\n",
    "plt.title('confusion matrix 3')\n",
    "sns.heatmap(df, annot=True, cmap='Blues',  fmt='g')"
   ]
  }
 ],
 "metadata": {
  "kernelspec": {
   "display_name": "Python 3",
   "language": "python",
   "name": "python3"
  },
  "language_info": {
   "codemirror_mode": {
    "name": "ipython",
    "version": 3
   },
   "file_extension": ".py",
   "mimetype": "text/x-python",
   "name": "python",
   "nbconvert_exporter": "python",
   "pygments_lexer": "ipython3",
   "version": "3.7.6"
  }
 },
 "nbformat": 4,
 "nbformat_minor": 4
}
